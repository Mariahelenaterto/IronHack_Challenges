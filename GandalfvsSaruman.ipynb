{
 "cells": [
  {
   "cell_type": "code",
   "execution_count": 18,
   "id": "bac8a07a",
   "metadata": {},
   "outputs": [
    {
     "name": "stdout",
     "output_type": "stream",
     "text": [
      "['Gandalf wins']\n"
     ]
    }
   ],
   "source": [
    "power = {\n",
    "    'Fireball': 50, \n",
    "    'Lightning bolt': 40, \n",
    "    'Magic arrow': 10, \n",
    "    'Black Tentacles': 25, \n",
    "    'Contagion': 45}\n",
    "\n",
    "gandalf = ['Fireball', 'Lightning bolt', 'Lightning bolt', 'Magic arrow', 'Fireball', 'Magic arrow', 'Lightning bolt', 'Fireball', 'Fireball', 'Fireball']\n",
    "saruman = ['Contagion', 'Contagion', 'Black Tentacles', 'Fireball', 'Black Tentacles', 'Lightning bolt', 'Magic arrow', 'Contagion', 'Magic arrow', 'Magic arrow']\n",
    "\n",
    "list_power_gandalf=[]\n",
    "list_power_saruman=[]\n",
    "position=0\n",
    "gandalf_wins=0\n",
    "saruman_wins=0\n",
    "tie=0\n",
    "winners=[]\n",
    "\n",
    "for item in gandalf:\n",
    "    list_power_gandalf.append(power[item])\n",
    "\n",
    "for item2 in saruman:\n",
    "    list_power_saruman.append(power[item2])\n",
    "\n",
    "for value in list_power_gandalf:\n",
    "    if value > list_power_saruman[position]:\n",
    "        gandalf_wins=gandalf_wins+1\n",
    "        winners.append('Gandalf wins')\n",
    "        position=position+1\n",
    "    elif value < list_power_saruman[position]:\n",
    "        saruman_wins=saruman_wins+1\n",
    "        winners.append('Saruman wins')\n",
    "        position=position+1\n",
    "    else:\n",
    "        tie=tie+1\n",
    "        winners.append('its a tie')\n",
    "        position=position+1\n",
    "\n",
    "posicao=0\n",
    "posicao1=1\n",
    "ganhou=False\n",
    "solution1=[]\n",
    "while ganhou == False:\n",
    "    if winners[posicao]==winners[posicao1]:\n",
    "        posicao=posicao+1\n",
    "        posicao1=posicao1+1\n",
    "        if winners[posicao]==winners[posicao1]:\n",
    "            solution1.append(winners[posicao1])\n",
    "            ganhou=True\n",
    "        else:\n",
    "            posicao=posicao+1\n",
    "            posicao1=posicao1+1\n",
    "    else:\n",
    "        posicao=posicao+1\n",
    "        posicao1=posicao1+1\n",
    "\n",
    "print (solution1)\n"
   ]
  },
  {
   "cell_type": "code",
   "execution_count": null,
   "id": "36e217c3",
   "metadata": {},
   "outputs": [],
   "source": []
  }
 ],
 "metadata": {
  "kernelspec": {
   "display_name": "Python 3 (ipykernel)",
   "language": "python",
   "name": "python3"
  },
  "language_info": {
   "codemirror_mode": {
    "name": "ipython",
    "version": 3
   },
   "file_extension": ".py",
   "mimetype": "text/x-python",
   "name": "python",
   "nbconvert_exporter": "python",
   "pygments_lexer": "ipython3",
   "version": "3.9.12"
  }
 },
 "nbformat": 4,
 "nbformat_minor": 5
}
